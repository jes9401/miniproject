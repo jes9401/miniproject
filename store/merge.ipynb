{
 "cells": [
  {
   "cell_type": "code",
   "execution_count": 44,
   "metadata": {},
   "outputs": [],
   "source": [
    "import glob\n",
    "import csv\n",
    "import pandas as pd\n",
    "import os\n",
    "\n",
    "path1 = '.\\\\*2018년.csv'\n",
    "path2 = '.\\\\*2019년.csv'\n",
    "path3 = '.\\\\*2020년.csv'\n",
    "merge_path = './merge.csv'\n",
    "file_list = []\n",
    "file_list.extend(glob.glob(path1))\n",
    "file_list.extend(glob.glob(path2))\n",
    "file_list.extend(glob.glob(path3))\n",
    "\n",
    "with open(merge_path,'w') as f:\n",
    "        for i,file in enumerate(file_list):\n",
    "                if i==0:\n",
    "                        with open(file,'r') as f2:\n",
    "                                while True:\n",
    "                                        line = f2.readline()\n",
    "                                        if not line:\n",
    "                                                break\n",
    "                                        f.write(line)\n",
    "                else:\n",
    "                        with open(file,'r') as f2:\n",
    "                                n = 0\n",
    "                                while True:\n",
    "                                        line = f2.readline()\n",
    "                                        if n != 0:\n",
    "                                                f.write(line)\n",
    "                                        if not line:\n",
    "                                                break\n",
    "                                        n+=1\n",
    "\n",
    "\n"
   ]
  },
  {
   "cell_type": "code",
   "execution_count": 51,
   "metadata": {},
   "outputs": [
    {
     "name": "stdout",
     "output_type": "stream",
     "text": [
      "./merge.csv\n"
     ]
    }
   ],
   "source": [
    "print(merge_path)\n",
    "df = pd.read_csv(merge_path,encoding='cp949')\n",
    "\n"
   ]
  },
  {
   "cell_type": "code",
   "execution_count": 53,
   "metadata": {},
   "outputs": [],
   "source": [
    "df=df.rename(columns={'기준_년_코드': '기준년'})\n",
    "df=df.rename(columns={'기준_분기_코드': '기준분기코드'})\n",
    "df=df.rename(columns={'상권_구분_코드': '상권구분코드'})\n",
    "df=df.rename(columns={'상권_구분_코드_명': '상권구분코드명'})\n",
    "df=df.rename(columns={'상권_코드': '상권코드'})\n",
    "df=df.rename(columns={'상권_코드_명': '상권코드명'})\n",
    "df=df.rename(columns={'서비스_업종_코드': '서비스업종코드'})\n",
    "df=df.rename(columns={'서비스_업종_코드_명': '서비스업종코드명'})\n",
    "df=df.rename(columns={'점포_수': '점포수'})\n",
    "df=df.rename(columns={'개업_점포_수': '개업점포수'})\n",
    "df=df.rename(columns={'폐업_점포_수': '폐업점포수'})"
   ]
  },
  {
   "cell_type": "code",
   "execution_count": 55,
   "metadata": {},
   "outputs": [],
   "source": [
    "a = list(df.columns)\n",
    "for i in a:\n",
    "    if \"_\" in i:\n",
    "        df=df.drop(i,axis=1)"
   ]
  },
  {
   "cell_type": "code",
   "execution_count": 57,
   "metadata": {},
   "outputs": [],
   "source": [
    "df.to_csv(os.path.join(merge_path), encoding='utf-8', index=False)"
   ]
  },
  {
   "cell_type": "code",
   "execution_count": 58,
   "metadata": {},
   "outputs": [],
   "source": [
    "df.to_csv(os.path.join('2018~2020점포 수.csv'), encoding='utf-8', index=False)"
   ]
  },
  {
   "cell_type": "code",
   "execution_count": null,
   "metadata": {},
   "outputs": [],
   "source": []
  },
  {
   "cell_type": "code",
   "execution_count": null,
   "metadata": {},
   "outputs": [],
   "source": []
  }
 ],
 "metadata": {
  "kernelspec": {
   "display_name": "Python 3",
   "language": "python",
   "name": "python3"
  },
  "language_info": {
   "codemirror_mode": {
    "name": "ipython",
    "version": 3
   },
   "file_extension": ".py",
   "mimetype": "text/x-python",
   "name": "python",
   "nbconvert_exporter": "python",
   "pygments_lexer": "ipython3",
   "version": "3.8.5"
  }
 },
 "nbformat": 4,
 "nbformat_minor": 4
}
