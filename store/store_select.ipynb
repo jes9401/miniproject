{
 "cells": [
  {
   "cell_type": "code",
   "execution_count": 2,
   "metadata": {},
   "outputs": [],
   "source": [
    "import pandas as pd\n",
    "\n",
    "\n",
    "# CS100001,한식음식점\n",
    "# CS100004,양식음식점\n",
    "# CS100002,중식음식점\n",
    "# CS100003,일식음식점\n",
    "# CS100006,패스트푸드점\n",
    "# CS100007,치킨전문점\n",
    "# 서비스업종코드,서비스업종코드명\n",
    "\n",
    "\n",
    "df = pd.read_csv('./2018~2020점포 수.csv') # 실제 파일 경로\n",
    "# continent 컬럼을 선택합니다.\n",
    "# 컬럼의 값과 조건을 비교합니다.\n",
    "# 그 결과를 새로운 변수에 할당합니다.\n",
    "\n",
    "is_korea = df['서비스업종코드'] == 'CS100001'\n",
    "is_eu = df['서비스업종코드'] == 'CS100004'\n",
    "is_china = df['서비스업종코드'] == 'CS100002'\n",
    "is_japan = df['서비스업종코드'] == 'CS100003'\n",
    "is_ff = df['서비스업종코드'] == 'CS100006'\n",
    "is_ck = df['서비스업종코드'] == 'CS100007'\n",
    "\n",
    "\n",
    "\n",
    "subset_df = df[is_korea | is_eu | is_china | is_japan|is_ff|is_ck]\n",
    "subset_df.to_csv('./store_6food.csv',encoding='cp949',index=False) # 파일 저장할 경로 및 파일 이름"
   ]
  },
  {
   "cell_type": "code",
   "execution_count": null,
   "metadata": {},
   "outputs": [],
   "source": []
  }
 ],
 "metadata": {
  "kernelspec": {
   "display_name": "Python 3",
   "language": "python",
   "name": "python3"
  },
  "language_info": {
   "codemirror_mode": {
    "name": "ipython",
    "version": 3
   },
   "file_extension": ".py",
   "mimetype": "text/x-python",
   "name": "python",
   "nbconvert_exporter": "python",
   "pygments_lexer": "ipython3",
   "version": "3.8.5"
  }
 },
 "nbformat": 4,
 "nbformat_minor": 4
}
