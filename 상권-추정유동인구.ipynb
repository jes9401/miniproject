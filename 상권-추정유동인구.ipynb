{
 "cells": [
  {
   "cell_type": "code",
   "execution_count": 144,
   "metadata": {},
   "outputs": [],
   "source": [
    "import os\n",
    "from bs4 import BeautifulSoup\n",
    "from urllib.request import urlopen\n",
    "import pandas as pd\n",
    "import time"
   ]
  },
  {
   "cell_type": "code",
   "execution_count": 150,
   "metadata": {},
   "outputs": [],
   "source": [
    "# 상권-추정유동인구 데이터 2019\n",
    "API = \"http://openapi.seoul.go.kr:8088/6c43776a586a65733534796f537752/xml/VwsmTrdarFlpopQq/\"\n",
    "num = 1\n",
    "year = 2019\n",
    "url=API + str(num)+\"/\"+str(num)+\"/\"+str(year)\n",
    "data = urlopen(url).read()\n",
    "soup = BeautifulSoup(data, \"html.parser\")\n",
    "total_count = int(soup.find(\"list_total_count\").text)\n",
    "df = pd.DataFrame(columns=['기준년', '분기', '상권구분코드', '상권구분코드명', '상권코드', '상권코드명', '총유동인구','남성유동인구','여성유동인구','10대유동인구','20대유동인구','30대유동인구','40대유동인구','50대유동인구','60대이상유동인구'])"
   ]
  },
  {
   "cell_type": "code",
   "execution_count": 154,
   "metadata": {},
   "outputs": [],
   "source": [
    "for i in range(1,total_count+1):\n",
    "    url=API + str(i)+\"/\"+str(i)+\"/\"+str(year)\n",
    "    data = urlopen(url).read()\n",
    "    soup = BeautifulSoup(data, \"html.parser\")\n",
    "    row_data = soup.find('row')\n",
    "    stdr_yy_cd = row_data.find('stdr_yy_cd').text\n",
    "    stdr_qu_cd = row_data.find('stdr_qu_cd').text\n",
    "    trdar_se_cd = row_data.find('trdar_se_cd').text\n",
    "    trdar_se_cd_nm = row_data.find('trdar_se_cd_nm').text\n",
    "    trdar_cd = row_data.find('trdar_cd').text\n",
    "    trdar_cd_nm = row_data.find('trdar_cd_nm').text\n",
    "    tot_flpop_co = row_data.find('tot_flpop_co').text\n",
    "    ml_flpop_co = row_data.find('ml_flpop_co').text\n",
    "    fml_flpop_co = row_data.find('fml_flpop_co').text\n",
    "    agrde_10_flpop_co = row_data.find('agrde_10_flpop_co').text\n",
    "    agrde_20_flpop_co = row_data.find('agrde_20_flpop_co').text\n",
    "    agrde_30_flpop_co = row_data.find('agrde_30_flpop_co').text\n",
    "    agrde_40_flpop_co = row_data.find('agrde_40_flpop_co').text\n",
    "    agrde_50_flpop_co = row_data.find('agrde_50_flpop_co').text\n",
    "    agrde_60_above_flpop_co = row_data.find('agrde_60_above_flpop_co').text\n",
    "    df.loc[i] = [stdr_yy_cd,stdr_qu_cd,trdar_se_cd,trdar_se_cd_nm,trdar_cd,trdar_cd_nm,tot_flpop_co,ml_flpop_co,fml_flpop_co\n",
    "             ,agrde_10_flpop_co,agrde_20_flpop_co,agrde_30_flpop_co,agrde_40_flpop_co,agrde_50_flpop_co,agrde_60_above_flpop_co]\n",
    "    time.sleep(0.001)"
   ]
  },
  {
   "cell_type": "code",
   "execution_count": 159,
   "metadata": {},
   "outputs": [],
   "source": [
    "df.to_csv(os.path.join(os.getcwd()+\"\\\\\"+\"2019_상권추정유동인구.csv\"), encoding='euc-kr', index=False)"
   ]
  },
  {
   "cell_type": "code",
   "execution_count": null,
   "metadata": {},
   "outputs": [],
   "source": []
  },
  {
   "cell_type": "code",
   "execution_count": 162,
   "metadata": {},
   "outputs": [
    {
     "name": "stdout",
     "output_type": "stream",
     "text": [
      "5980\n"
     ]
    }
   ],
   "source": [
    "# 상권-추정유동인구 데이터 2020\n",
    "API = \"http://openapi.seoul.go.kr:8088/6c43776a586a65733534796f537752/xml/VwsmTrdarFlpopQq/\"\n",
    "num = 1\n",
    "year = 2020\n",
    "url=API + str(num)+\"/\"+str(num)+\"/\"+str(year)\n",
    "data = urlopen(url).read()\n",
    "soup = BeautifulSoup(data, \"html.parser\")\n",
    "total_count = int(soup.find(\"list_total_count\").text)\n",
    "print(total_count)\n",
    "df = pd.DataFrame(columns=['기준년', '분기', '상권구분코드', '상권구분코드명', '상권코드', '상권코드명', '총유동인구','남성유동인구','여성유동인구','10대유동인구','20대유동인구','30대유동인구','40대유동인구','50대유동인구','60대이상유동인구'])\n",
    "for i in range(1,total_count+1):\n",
    "    url=API + str(i)+\"/\"+str(i)+\"/\"+str(year)\n",
    "    data = urlopen(url).read()\n",
    "    soup = BeautifulSoup(data, \"html.parser\")\n",
    "    row_data = soup.find('row')\n",
    "    stdr_yy_cd = row_data.find('stdr_yy_cd').text\n",
    "    stdr_qu_cd = row_data.find('stdr_qu_cd').text\n",
    "    trdar_se_cd = row_data.find('trdar_se_cd').text\n",
    "    trdar_se_cd_nm = row_data.find('trdar_se_cd_nm').text\n",
    "    trdar_cd = row_data.find('trdar_cd').text\n",
    "    trdar_cd_nm = row_data.find('trdar_cd_nm').text\n",
    "    tot_flpop_co = row_data.find('tot_flpop_co').text\n",
    "    ml_flpop_co = row_data.find('ml_flpop_co').text\n",
    "    fml_flpop_co = row_data.find('fml_flpop_co').text\n",
    "    agrde_10_flpop_co = row_data.find('agrde_10_flpop_co').text\n",
    "    agrde_20_flpop_co = row_data.find('agrde_20_flpop_co').text\n",
    "    agrde_30_flpop_co = row_data.find('agrde_30_flpop_co').text\n",
    "    agrde_40_flpop_co = row_data.find('agrde_40_flpop_co').text\n",
    "    agrde_50_flpop_co = row_data.find('agrde_50_flpop_co').text\n",
    "    agrde_60_above_flpop_co = row_data.find('agrde_60_above_flpop_co').text\n",
    "    df.loc[i] = [stdr_yy_cd,stdr_qu_cd,trdar_se_cd,trdar_se_cd_nm,trdar_cd,trdar_cd_nm,tot_flpop_co,ml_flpop_co,fml_flpop_co\n",
    "             ,agrde_10_flpop_co,agrde_20_flpop_co,agrde_30_flpop_co,agrde_40_flpop_co,agrde_50_flpop_co,agrde_60_above_flpop_co]\n",
    "df.to_csv(os.path.join(os.getcwd()+\"\\\\\"+\"2020_상권추정유동인구.csv\"), encoding='euc-kr', index=False)"
   ]
  },
  {
   "cell_type": "code",
   "execution_count": null,
   "metadata": {},
   "outputs": [],
   "source": []
  }
 ],
 "metadata": {
  "kernelspec": {
   "display_name": "Python 3",
   "language": "python",
   "name": "python3"
  },
  "language_info": {
   "codemirror_mode": {
    "name": "ipython",
    "version": 3
   },
   "file_extension": ".py",
   "mimetype": "text/x-python",
   "name": "python",
   "nbconvert_exporter": "python",
   "pygments_lexer": "ipython3",
   "version": "3.8.5"
  }
 },
 "nbformat": 4,
 "nbformat_minor": 4
}
