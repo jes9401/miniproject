{
 "cells": [
  {
   "cell_type": "code",
   "execution_count": 4,
   "metadata": {},
   "outputs": [],
   "source": [
    "# 2020\n",
    "\n",
    "import os\n",
    "from bs4 import BeautifulSoup\n",
    "from urllib.request import urlopen\n",
    "import pandas as pd\n",
    "import time\n",
    "\n",
    "API = \"http://openapi.seoul.go.kr:8088/6c43776a586a65733534796f537752/xml/VwsmTrdarSelngQq/\"\n",
    "num = 1\n",
    "year = 2020\n",
    "url=API + str(num)+\"/\"+str(num)+\"/\"+str(year)\n",
    "data = urlopen(url).read()\n",
    "soup = BeautifulSoup(data, \"lxml\")\n",
    "total_count = int(soup.find(\"list_total_count\").text)\n",
    "\n",
    "df = pd.DataFrame(columns=['기준년' ,'분기' ,'상권구분코드' ,'상권구분코드명' ,'상권코드' ,'상권코드명' ,'서비스업종코드' ,'서비스업종코드명' ,'당월매출금액' ,'당월매출건수' ,'주중매출금액' ,'주말매출금액','월요일매출금액','화요일매출금액','수요일매출금액' ,'목요일매출금액','금요일매출금액','토요일매출금액','일요일매출금액','점포수'])\n",
    "\n",
    "start = 1\n",
    "count = 0\n",
    "while True:\n",
    "    if start+999>=total_count:\n",
    "        url=API + str(start)+\"/\"+str(total_count)+\"/\"+str(year)\n",
    "        print(start,\"~\",total_count)\n",
    "    else:\n",
    "        url=API + str(start)+\"/\"+str(start+999)+\"/\"+str(year)\n",
    "        print(start,\"~\",start+999)\n",
    "    data = urlopen(url).read()\n",
    "    soup = BeautifulSoup(data, \"lxml\")\n",
    "    row_data = soup.find_all('row')\n",
    "    for i in range(len(row_data)):\n",
    "        stdr_yy_cd = row_data[i].find('stdr_yy_cd').text\n",
    "        stdr_qu_cd = row_data[i].find('stdr_qu_cd').text\n",
    "        trdar_se_cd = row_data[i].find('trdar_se_cd').text\n",
    "        trdar_se_cd_nm = row_data[i].find('trdar_se_cd_nm').text\n",
    "        trdar_cd = row_data[i].find('trdar_cd').text\n",
    "        trdar_cd_nm = row_data[i].find('trdar_cd_nm').text\n",
    "        svc_induty_cd = row_data[i].find('svc_induty_cd').text\n",
    "        svc_induty_cd_nm = row_data[i].find('svc_induty_cd_nm').text\n",
    "        thsmon_selng_amt = row_data[i].find('thsmon_selng_amt').text\n",
    "        thsmon_selng_co = row_data[i].find('thsmon_selng_co').text\n",
    "        mdwk_selng_amt = row_data[i].find('mdwk_selng_amt').text\n",
    "        wkend_selng_amt = row_data[i].find('wkend_selng_amt').text\n",
    "        mon_selng_amt = row_data[i].find('mon_selng_amt').text\n",
    "        tues_selng_amt = row_data[i].find('tues_selng_amt').text\n",
    "        wed_selng_amt = row_data[i].find('wed_selng_amt').text\n",
    "        thur_selng_amt = row_data[i].find('thur_selng_amt').text\n",
    "        fri_selng_amt = row_data[i].find('fri_selng_amt').text\n",
    "        sat_selng_amt = row_data[i].find('sat_selng_amt').text\n",
    "        sun_selng_amt = row_data[i].find('sun_selng_amt').text\n",
    "        stor_co = row_data[i].find('stor_co').text\n",
    "        df.loc[count] = [stdr_yy_cd, stdr_qu_cd, trdar_se_cd,trdar_se_cd_nm,trdar_cd,trdar_cd_nm,svc_induty_cd,svc_induty_cd_nm,thsmon_selng_amt,thsmon_selng_co,mdwk_selng_amt,wkend_selng_amt,mon_selng_amt,tues_selng_amt,wed_selng_amt,thur_selng_amt,fri_selng_amt,sat_selng_amt,sun_selng_amt,stor_co]\n",
    "        count+=1\n",
    "    if start>=total_count+1:\n",
    "        break\n",
    "    start+=1000\n",
    "        \n",
    "df.to_csv(os.path.join(os.getcwd()+\"\\\\\"+\"2020_상권추정매출.csv\"), encoding='utf-8', index=False)"
   ]
  },
  {
   "cell_type": "code",
   "execution_count": null,
   "metadata": {},
   "outputs": [],
   "source": []
  }
 ],
 "metadata": {
  "kernelspec": {
   "display_name": "Python 3",
   "language": "python",
   "name": "python3"
  },
  "language_info": {
   "codemirror_mode": {
    "name": "ipython",
    "version": 3
   },
   "file_extension": ".py",
   "mimetype": "text/x-python",
   "name": "python",
   "nbconvert_exporter": "python",
   "pygments_lexer": "ipython3",
   "version": "3.8.5"
  }
 },
 "nbformat": 4,
 "nbformat_minor": 4
}
