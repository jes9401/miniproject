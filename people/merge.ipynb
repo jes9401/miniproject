{
 "cells": [
  {
   "cell_type": "code",
   "execution_count": 4,
   "metadata": {},
   "outputs": [],
   "source": [
    "import glob\n",
    "import csv\n",
    "import pandas as pd\n",
    "import os\n",
    "\n",
    "path1 = '.\\\\*2018.csv'\n",
    "path2 = '.\\\\*2019.csv'\n",
    "path3 = '.\\\\*2020.csv'\n",
    "merge_path = './merge.csv'\n",
    "file_list = []\n",
    "file_list.extend(glob.glob(path1))\n",
    "file_list.extend(glob.glob(path2))\n",
    "file_list.extend(glob.glob(path3))\n",
    "\n",
    "with open(merge_path,'w') as f:\n",
    "        for i,file in enumerate(file_list):\n",
    "                if i==0:\n",
    "                        with open(file,'r') as f2:\n",
    "                                while True:\n",
    "                                        line = f2.readline()\n",
    "                                        if not line:\n",
    "                                                break\n",
    "                                        f.write(line)\n",
    "                else:\n",
    "                        with open(file,'r') as f2:\n",
    "                                n = 0\n",
    "                                while True:\n",
    "                                        line = f2.readline()\n",
    "                                        if n != 0:\n",
    "                                                f.write(line)\n",
    "                                        if not line:\n",
    "                                                break\n",
    "                                        n+=1\n",
    "\n",
    "\n"
   ]
  },
  {
   "cell_type": "code",
   "execution_count": 22,
   "metadata": {},
   "outputs": [
    {
     "name": "stdout",
     "output_type": "stream",
     "text": [
      "./merge.csv\n"
     ]
    },
    {
     "name": "stderr",
     "output_type": "stream",
     "text": [
      "b'Skipping line 5981: expected 532 fields, saw 1063\\n'\n",
      "b'Skipping line 11960: expected 532 fields, saw 1063\\n'\n"
     ]
    }
   ],
   "source": [
    "print(merge_path)\n",
    "df = pd.read_csv(merge_path,encoding='cp949',error_bad_lines=False)\n",
    "\n"
   ]
  },
  {
   "cell_type": "code",
   "execution_count": 23,
   "metadata": {},
   "outputs": [
    {
     "data": {
      "text/plain": [
       "Index(['기준 년코드', '기준분기코드', '상권구분코드', '상권구분코드명', '상권코드', '상권코드명', '총유동인구',\n",
       "       '남성유동인구', '여성유동인구', '10대유동인구',\n",
       "       ...\n",
       "       '여성연령대_60_이상_토요일시간대_3_유동인구_수', '여성연령대_60_이상_토요일시간대_4_유동인구_수',\n",
       "       '여성연령대_60_이상_토요일시간대_5_유동인구_수', '여성연령대_60_이상_토요일시간대_6_유동인구_수',\n",
       "       '여성연령대_60_이상_일요일시간대_1_유동인구_수', '여성연령대_60_이상_일요일시간대_2_유동인구_수',\n",
       "       '여성연령대_60_이상_일요일시간대_3_유동인구_수', '여성연령대_60_이상_일요일시간대_4_유동인구_수',\n",
       "       '여성연령대_60_이상_일요일시간대_5_유동인구_수', '여성연령대_60_이상_일요일시간대_6_유동인구_수'],\n",
       "      dtype='object', length=532)"
      ]
     },
     "execution_count": 23,
     "metadata": {},
     "output_type": "execute_result"
    }
   ],
   "source": [
    "df=df.rename(columns={'기준_년_코드': '기준년'})\n",
    "df=df.rename(columns={'기준_분기_코드': '기준분기코드'})\n",
    "df=df.rename(columns={'상권_구분_코드': '상권구분코드'})\n",
    "df=df.rename(columns={' 상권_구분_코드_명': '상권구분코드명'})\n",
    "df=df.rename(columns={'상권_코드': '상권코드'})\n",
    "df=df.rename(columns={'상권_코드_명': '상권코드명'})\n",
    "df=df.rename(columns={'총_유동인구_수': '총유동인구'})\n",
    "df=df.rename(columns={'남성_유동인구_수': '남성유동인구'})\n",
    "df=df.rename(columns={'여성_유동인구_수': '여성유동인구'})\n",
    "df=df.rename(columns={'연령대_10_유동인구_수': '10대유동인구'})\n",
    "df=df.rename(columns={'연령대_20_유동인구_수': '20대유동인구'})\n",
    "df=df.rename(columns={'연령대_30_유동인구_수': '30대유동인구'})\n",
    "df=df.rename(columns={'연령대_40_유동인구_수': '40대유동인구'})\n",
    "df=df.rename(columns={'연령대_50_유동인구_수': '50대유동인구'})\n",
    "df=df.rename(columns={'연령대_60_이상_유동인구_수': '60대이상유동인구'})\n",
    "df.columns"
   ]
  },
  {
   "cell_type": "code",
   "execution_count": 25,
   "metadata": {},
   "outputs": [],
   "source": [
    "a = list(df.columns)\n",
    "for i in a:\n",
    "    if \"_\" in i:\n",
    "        df=df.drop(i,axis=1)"
   ]
  },
  {
   "cell_type": "code",
   "execution_count": 26,
   "metadata": {},
   "outputs": [
    {
     "data": {
      "text/plain": [
       "Index(['기준 년코드', '기준분기코드', '상권구분코드', '상권구분코드명', '상권코드', '상권코드명', '총유동인구',\n",
       "       '남성유동인구', '여성유동인구', '10대유동인구', '20대유동인구', '30대유동인구', '40대유동인구',\n",
       "       '50대유동인구', '60대이상유동인구'],\n",
       "      dtype='object')"
      ]
     },
     "execution_count": 26,
     "metadata": {},
     "output_type": "execute_result"
    }
   ],
   "source": [
    "df.columns"
   ]
  },
  {
   "cell_type": "code",
   "execution_count": null,
   "metadata": {},
   "outputs": [],
   "source": []
  },
  {
   "cell_type": "code",
   "execution_count": null,
   "metadata": {},
   "outputs": [],
   "source": []
  },
  {
   "cell_type": "code",
   "execution_count": 27,
   "metadata": {},
   "outputs": [],
   "source": [
    "df.to_csv(os.path.join(merge_path), encoding='utf-8', index=False)"
   ]
  },
  {
   "cell_type": "code",
   "execution_count": 28,
   "metadata": {},
   "outputs": [],
   "source": [
    "df.to_csv(os.path.join('./2018~2020유동인구.csv'), encoding='utf-8', index=False)"
   ]
  },
  {
   "cell_type": "code",
   "execution_count": null,
   "metadata": {},
   "outputs": [],
   "source": []
  }
 ],
 "metadata": {
  "kernelspec": {
   "display_name": "Python 3",
   "language": "python",
   "name": "python3"
  },
  "language_info": {
   "codemirror_mode": {
    "name": "ipython",
    "version": 3
   },
   "file_extension": ".py",
   "mimetype": "text/x-python",
   "name": "python",
   "nbconvert_exporter": "python",
   "pygments_lexer": "ipython3",
   "version": "3.8.5"
  }
 },
 "nbformat": 4,
 "nbformat_minor": 4
}
