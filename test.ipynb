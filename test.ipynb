{
 "cells": [
  {
   "cell_type": "code",
   "execution_count": 2,
   "metadata": {},
   "outputs": [],
   "source": [
    "from selenium import webdriver\n",
    "import time\n"
   ]
  },
  {
   "cell_type": "code",
   "execution_count": null,
   "metadata": {},
   "outputs": [],
   "source": [
    "dr = webdriver.Chrome('chromedriver_win32/chromedriver.exe')"
   ]
  },
  {
   "cell_type": "code",
   "execution_count": 12,
   "metadata": {},
   "outputs": [],
   "source": [
    "from selenium import webdriver\n",
    "import time\n",
    "\n",
    "dr = webdriver.Chrome('chromedriver_win32/chromedriver.exe')\n",
    "options = webdriver.ChromeOptions()\n",
    "# 창 숨기는 옵션 추가\n",
    "options.add_argument(\"headless\")\n",
    "\n",
    "# driver 실행\n",
    "dr = webdriver.Chrome('../chromedriver_win32/chromedriver.exe',options=options)\n",
    "# dr = webdriver.Chrome('../chromedriver_win32/chromedriver.exe')\n",
    "dr.get('http://data.seoul.go.kr/dataList/OA-15577/S/1/datasetView.do')\n",
    "dr.find_element_by_xpath('/html/body/div[3]/section/div[2]/div/section/form/div[2]/div[2]/table/tbody/tr/td[6]/a').click()\n",
    "\n",
    "# driver 종료\n",
    "dr.quit()"
   ]
  },
  {
   "cell_type": "code",
   "execution_count": null,
   "metadata": {},
   "outputs": [],
   "source": []
  }
 ],
 "metadata": {
  "kernelspec": {
   "display_name": "Python 3",
   "language": "python",
   "name": "python3"
  },
  "language_info": {
   "codemirror_mode": {
    "name": "ipython",
    "version": 3
   },
   "file_extension": ".py",
   "mimetype": "text/x-python",
   "name": "python",
   "nbconvert_exporter": "python",
   "pygments_lexer": "ipython3",
   "version": "3.8.5"
  }
 },
 "nbformat": 4,
 "nbformat_minor": 4
}
